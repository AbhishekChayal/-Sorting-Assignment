{
 "cells": [
  {
   "cell_type": "markdown",
   "metadata": {},
   "source": [
    "Sorting Practice Questions"
   ]
  },
  {
   "cell_type": "markdown",
   "metadata": {},
   "source": [
    "Problem 1.Given an array of n numbers, give an algorithm which gives the element appearing maximum number of times?"
   ]
  },
  {
   "cell_type": "code",
   "execution_count": 19,
   "metadata": {},
   "outputs": [
    {
     "name": "stdout",
     "output_type": "stream",
     "text": [
      "1\n"
     ]
    }
   ],
   "source": [
    "from collections import defaultdict\n",
    "\n",
    "def find_max_occurrence_element(arr):\n",
    "    count_map = defaultdict(int)\n",
    "    \n",
    "    # Count occurrences of each element\n",
    "    for num in arr:\n",
    "        count_map[num] += 1\n",
    "    \n",
    "    # Find the element with the maximum count\n",
    "    max_element = None\n",
    "    max_count = 0\n",
    "    for num, count in count_map.items():\n",
    "        if count > max_count:\n",
    "            max_count = count\n",
    "            max_element = num\n",
    "    \n",
    "    return max_element\n",
    "\n",
    "# Example usage\n",
    "arr = [1, 3, 1, 2, 2, 2, 3, 1]\n",
    "output = find_max_occurrence_element(arr)\n",
    "print(output)  \n"
   ]
  },
  {
   "cell_type": "markdown",
   "metadata": {},
   "source": [
    "Problem 2 : We are given a list of n-1 integers and these integers are in the range of 1 to n . There are no duplicates in the list. One of the integers is missing in the list. Give an algorithm to find that element Ex: [1,2,4,6,3,7,8] 5 is the missing num."
   ]
  },
  {
   "cell_type": "code",
   "execution_count": 18,
   "metadata": {},
   "outputs": [
    {
     "name": "stdout",
     "output_type": "stream",
     "text": [
      "5\n"
     ]
    }
   ],
   "source": [
    "def find_missing_number(nums):\n",
    "    n = len(nums) + 1  # Since the list has n-1 numbers\n",
    "    expected_sum = n * (n + 1) // 2\n",
    "    actual_sum = sum(nums)\n",
    "    return expected_sum - actual_sum\n",
    "\n",
    "# Example usage\n",
    "nums = [1, 2, 4, 6, 3, 7, 8]\n",
    "missing_number = find_missing_number(nums)\n",
    "print(missing_number)"
   ]
  },
  {
   "cell_type": "markdown",
   "metadata": {},
   "source": [
    "Problem 3 : Given an array of n positive numbers. All numbers occurs even number of times except 1 which\n",
    "occurs odd number of times. Find that number in O(n) time and O(1) space. Ex: [1,2,3,2,3,1,3]. 3 is repeats odd\n",
    "times."
   ]
  },
  {
   "cell_type": "code",
   "execution_count": 17,
   "metadata": {},
   "outputs": [
    {
     "name": "stdout",
     "output_type": "stream",
     "text": [
      "3\n"
     ]
    }
   ],
   "source": [
    "def find_odd_occurrence(nums):\n",
    "    result = 0\n",
    "    for num in nums:\n",
    "        result ^= num\n",
    "    return result\n",
    "\n",
    "# Example usage\n",
    "nums = [1, 2, 3, 2, 3, 1, 3]\n",
    "odd_occurrence = find_odd_occurrence(nums)\n",
    "print(odd_occurrence) \n"
   ]
  },
  {
   "cell_type": "markdown",
   "metadata": {},
   "source": [
    "Problem 4 : Given an array of n elements. Find two elements in the array such that their sum is equal to given\n",
    "element K."
   ]
  },
  {
   "cell_type": "code",
   "execution_count": 16,
   "metadata": {},
   "outputs": [
    {
     "name": "stdout",
     "output_type": "stream",
     "text": [
      "(5, 6)\n"
     ]
    }
   ],
   "source": [
    "def find_pair_with_sum(nums, K):\n",
    "    seen = set()\n",
    "    \n",
    "    for num in nums:\n",
    "        complement = K - num\n",
    "        if complement in seen:\n",
    "            return (complement, num)\n",
    "        seen.add(num)\n",
    "    \n",
    "    return None\n",
    "\n",
    "# Example usage\n",
    "nums = [1, 4, 5, 6, 7]\n",
    "K = 11\n",
    "result = find_pair_with_sum(nums, K)\n",
    "print(result) \n"
   ]
  },
  {
   "cell_type": "markdown",
   "metadata": {},
   "source": [
    "Problem 5 : Given an array of both positive and negative numbers, find two numbers such that their sum is\n",
    "closest to 0. Ex: [ 1 ,60 ,-10, 70, -80,85]. Ans : -80,85."
   ]
  },
  {
   "cell_type": "code",
   "execution_count": 15,
   "metadata": {},
   "outputs": [
    {
     "name": "stdout",
     "output_type": "stream",
     "text": [
      "(-80, 85)\n"
     ]
    }
   ],
   "source": [
    "def find_closest_pair(nums):\n",
    "    # Sort the array\n",
    "    nums.sort()\n",
    "    \n",
    "    left = 0\n",
    "    right = len(nums) - 1\n",
    "    closest_pair = (nums[left], nums[right])\n",
    "    closest_sum = abs(nums[left] + nums[right])\n",
    "    \n",
    "    while left < right:\n",
    "        current_sum = nums[left] + nums[right]\n",
    "        \n",
    "        # Check if this is the closest sum to zero\n",
    "        if abs(current_sum) < closest_sum:\n",
    "            closest_sum = abs(current_sum)\n",
    "            closest_pair = (nums[left], nums[right])\n",
    "        \n",
    "        # Move pointers\n",
    "        if current_sum < 0:\n",
    "            left += 1\n",
    "        elif current_sum > 0:\n",
    "            right -= 1\n",
    "        else:\n",
    "            # If the current_sum is exactly zero, we have the closest possible pair\n",
    "            break\n",
    "    \n",
    "    return closest_pair\n",
    "\n",
    "# Example usage\n",
    "nums = [1, 60, -10, 70, -80, 85]\n",
    "closest_pair = find_closest_pair(nums)\n",
    "print(closest_pair) \n"
   ]
  },
  {
   "cell_type": "markdown",
   "metadata": {},
   "source": [
    "Problem 6 : Given an array of n elements . Find three elements such that their sum is equal to the given\n",
    "number."
   ]
  },
  {
   "cell_type": "code",
   "execution_count": 13,
   "metadata": {},
   "outputs": [
    {
     "name": "stdout",
     "output_type": "stream",
     "text": [
      "(3, 9, 12)\n"
     ]
    }
   ],
   "source": [
    "def find_three_elements(nums, K):\n",
    "    nums.sort()  # Sort the array\n",
    "    n = len(nums)\n",
    "    \n",
    "    for i in range(n - 2):\n",
    "        # Fix the first element and use two-pointer approach for the remaining elements\n",
    "        left = i + 1\n",
    "        right = n - 1\n",
    "        while left < right:\n",
    "            current_sum = nums[i] + nums[left] + nums[right]\n",
    "            if current_sum == K:\n",
    "                return (nums[i], nums[left], nums[right])\n",
    "            elif current_sum < K:\n",
    "                left += 1\n",
    "            else:\n",
    "                right -= 1\n",
    "    \n",
    "    return None  # If no triplet is found\n",
    "\n",
    "# Example usage\n",
    "nums = [12, 3, 4, 1, 6, 9]\n",
    "K = 24\n",
    "result = find_three_elements(nums, K)\n",
    "print(result) \n"
   ]
  },
  {
   "cell_type": "markdown",
   "metadata": {},
   "source": [
    "Problem 7 : Given an array of n elements . Find three elements i, j, k in the array such that\n",
    "i * i + j * j = k*k."
   ]
  },
  {
   "cell_type": "code",
   "execution_count": 12,
   "metadata": {},
   "outputs": [
    {
     "name": "stdout",
     "output_type": "stream",
     "text": [
      "(3, 4, 5)\n"
     ]
    }
   ],
   "source": [
    "def find_triplets(nums):\n",
    "    squares = set(x * x for x in nums)  # Compute squares and store in a set\n",
    "    nums = set(nums)  # Use a set to ensure unique elements\n",
    "    \n",
    "    for i in nums:\n",
    "        for j in nums:\n",
    "            if i != j:\n",
    "                sum_of_squares = i * i + j * j\n",
    "                if sum_of_squares in squares:\n",
    "                    k = int(sum_of_squares**0.5)\n",
    "                    if k in nums and k * k == sum_of_squares:\n",
    "                        return (i, j, k)\n",
    "    \n",
    "    return None  # If no triplet is found\n",
    "\n",
    "# Example usage\n",
    "nums = [3, 4, 5, 6, 7, 8, 9]\n",
    "result = find_triplets(nums)\n",
    "print(result) \n"
   ]
  },
  {
   "cell_type": "markdown",
   "metadata": {},
   "source": [
    "Problem 8 : An element is a majority if it appears more than n/2 times. Give an algorithm takes an array of n\n",
    "element as argument and identifies a majority (if it exists)."
   ]
  },
  {
   "cell_type": "code",
   "execution_count": 11,
   "metadata": {},
   "outputs": [
    {
     "name": "stdout",
     "output_type": "stream",
     "text": [
      "4\n"
     ]
    }
   ],
   "source": [
    "def find_majority_element(nums):\n",
    "    # Step 1: Find a candidate\n",
    "    candidate = None\n",
    "    count = 0\n",
    "\n",
    "    for num in nums:\n",
    "        if count == 0:\n",
    "            candidate = num\n",
    "        count += (1 if num == candidate else -1)\n",
    "    \n",
    "    # Step 2: Verify the candidate\n",
    "    if candidate is not None:\n",
    "        occurrence_count = nums.count(candidate)\n",
    "        if occurrence_count > len(nums) // 2:\n",
    "            return candidate\n",
    "    \n",
    "    return None\n",
    "\n",
    "# Example usage\n",
    "nums = [3, 3, 4, 2, 4, 4, 2, 4, 4]\n",
    "majority_element = find_majority_element(nums)\n",
    "print(majority_element)  \n"
   ]
  },
  {
   "cell_type": "markdown",
   "metadata": {},
   "source": [
    "Problem 9 : Given n × n matrix, and in each row all 1’s are followed by 0’s. Find the row with the maximum\n",
    "number of 0’s."
   ]
  },
  {
   "cell_type": "code",
   "execution_count": 10,
   "metadata": {},
   "outputs": [
    {
     "name": "stdout",
     "output_type": "stream",
     "text": [
      "3\n"
     ]
    }
   ],
   "source": [
    "def row_with_max_zeros(matrix):\n",
    "    n = len(matrix)\n",
    "    \n",
    "    max_zero_count = -1\n",
    "    row_with_max_zeros = -1\n",
    "    \n",
    "    for i in range(n):\n",
    "        # Find the index of the first 0 in the current row\n",
    "        # Binary search can be used to optimize, here we use a linear search\n",
    "        row = matrix[i]\n",
    "        left, right = 0, n - 1\n",
    "        first_zero_index = n\n",
    "        \n",
    "        while left <= right:\n",
    "            mid = (left + right) // 2\n",
    "            if row[mid] == 0:\n",
    "                first_zero_index = mid\n",
    "                right = mid - 1\n",
    "            else:\n",
    "                left = mid + 1\n",
    "        \n",
    "        zero_count = n - first_zero_index\n",
    "        \n",
    "        if zero_count > max_zero_count:\n",
    "            max_zero_count = zero_count\n",
    "            row_with_max_zeros = i\n",
    "    \n",
    "    return row_with_max_zeros\n",
    "\n",
    "# Example usage\n",
    "matrix = [\n",
    "    [1, 1, 1, 0, 0],\n",
    "    [1, 1, 0, 0, 0],\n",
    "    [1, 0, 0, 0, 0],\n",
    "    [0, 0, 0, 0, 0]\n",
    "]\n",
    "row_index = row_with_max_zeros(matrix)\n",
    "print(row_index)  \n"
   ]
  },
  {
   "cell_type": "markdown",
   "metadata": {},
   "source": [
    "Problem 10 : Sort an array of 0’s, 1’s and 2’s [or R’s, G’s and B’s]: Given an array A[] consisting of 0’s, 1’s and\n",
    "2’s, give an algorithm for sorting A[].The algorithm should put all 0’s first, then all 1’s and finally all 2’s at the\n",
    "end. Example Input = {0,1,1,0,1,2,1,2,0,0,0,1}, Output = {0,0,0,0,0,1,1,1,1,1,2,2}"
   ]
  },
  {
   "cell_type": "code",
   "execution_count": 21,
   "metadata": {},
   "outputs": [
    {
     "name": "stdout",
     "output_type": "stream",
     "text": [
      "[0, 0, 0, 0, 0, 1, 1, 1, 1, 1, 2, 2]\n"
     ]
    }
   ],
   "source": [
    "def sort_colors(nums):\n",
    "    low, mid, high = 0, 0, len(nums) - 1\n",
    "    \n",
    "    while mid <= high:\n",
    "        if nums[mid] == 0:\n",
    "            nums[low], nums[mid] = nums[mid], nums[low]\n",
    "            low += 1\n",
    "            mid += 1\n",
    "        elif nums[mid] == 1:\n",
    "            mid += 1\n",
    "        else:  # nums[mid] == 2\n",
    "            nums[high], nums[mid] = nums[mid], nums[high]\n",
    "            high -= 1\n",
    "\n",
    "# Example usage\n",
    "nums = [0, 1, 1, 0, 1, 2, 1, 2, 0, 0, 0, 1]\n",
    "sort_colors(nums)\n",
    "print(nums)  "
   ]
  }
 ],
 "metadata": {
  "kernelspec": {
   "display_name": "base",
   "language": "python",
   "name": "python3"
  },
  "language_info": {
   "codemirror_mode": {
    "name": "ipython",
    "version": 3
   },
   "file_extension": ".py",
   "mimetype": "text/x-python",
   "name": "python",
   "nbconvert_exporter": "python",
   "pygments_lexer": "ipython3",
   "version": "3.11.4"
  }
 },
 "nbformat": 4,
 "nbformat_minor": 2
}
